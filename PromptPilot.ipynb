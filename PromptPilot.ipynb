{
  "nbformat": 4,
  "nbformat_minor": 0,
  "metadata": {
    "colab": {
      "provenance": []
    },
    "kernelspec": {
      "name": "python3",
      "display_name": "Python 3"
    },
    "language_info": {
      "name": "python"
    }
  },
  "cells": [
    {
      "cell_type": "markdown",
      "source": [
        "\n",
        "\n",
        "---\n",
        "\n",
        "# **Basic Code Generation Using the Gemini API**\n",
        "\n",
        "---\n",
        "\n"
      ],
      "metadata": {
        "id": "L0BicQ_uJBng"
      }
    },
    {
      "cell_type": "code",
      "execution_count": 1,
      "metadata": {
        "id": "WVlswhysIcsC"
      },
      "outputs": [],
      "source": [
        "!pip install -U -q \"google-generativeai>=0.7.2\""
      ]
    },
    {
      "cell_type": "code",
      "source": [
        "import google.generativeai as genai\n",
        "from IPython.display import Markdown"
      ],
      "metadata": {
        "id": "ByEBA9ZJIgAk"
      },
      "execution_count": 3,
      "outputs": []
    },
    {
      "cell_type": "code",
      "source": [
        "# Set up your API key.\n",
        "from google.colab import userdata\n",
        "GOOGLE_API_KEY=userdata.get('GOOGLE_API_KEY')\n",
        "genai.configure(api_key=GOOGLE_API_KEY)"
      ],
      "metadata": {
        "id": "CBxN8CVOIjkU"
      },
      "execution_count": 4,
      "outputs": []
    },
    {
      "cell_type": "code",
      "source": [
        "# Illustrations of Error Handling\n",
        "error_handling_system_prompt =f\"\"\"\n",
        "Your task is to explain exactly why this error occurred and how to fix it.\n",
        "\"\"\"\n",
        "error_handling_model = genai.GenerativeModel(model_name='gemini-2.0-flash', generation_config={\"temperature\": 0},\n",
        "                                             system_instruction=error_handling_system_prompt)"
      ],
      "metadata": {
        "id": "Vqidbm7nInwQ"
      },
      "execution_count": 5,
      "outputs": []
    },
    {
      "cell_type": "code",
      "source": [
        "error_message = \"\"\"\n",
        "   1 my_list = [1,2,3]\n",
        "----> 2 print(my_list[3])\n",
        "\n",
        "IndexError: list index out of range\n",
        "\"\"\"\n",
        "\n",
        "error_prompt = f\"\"\"\n",
        "You've encountered the following error message:\n",
        "Error Message: {error_message}\"\"\"\n",
        "\n",
        "Markdown(error_handling_model.generate_content(error_prompt).text)"
      ],
      "metadata": {
        "colab": {
          "base_uri": "https://localhost:8080/",
          "height": 991
        },
        "id": "9zjE8HKCIqE0",
        "outputId": "456b8d01-6a1d-4c5d-ed4d-52c1097108f2"
      },
      "execution_count": 6,
      "outputs": [
        {
          "output_type": "execute_result",
          "data": {
            "text/plain": [
              "<IPython.core.display.Markdown object>"
            ],
            "text/markdown": "Okay, let's break down this error and how to resolve it.\n\n**Understanding the Error: `IndexError: list index out of range`**\n\nThis error, `IndexError: list index out of range`, is a very common one in Python (and other programming languages). It means you're trying to access an element in a list (or other sequence-like object) using an index that is *outside* the valid range of indices for that list.\n\n*   **Lists are Zero-Indexed:**  In Python, lists are *zero-indexed*. This means the first element in a list is at index 0, the second element is at index 1, the third at index 2, and so on.\n\n*   **Valid Index Range:** For a list of length `n`, the valid indices are from `0` to `n-1`.  Trying to access an index that is less than 0 or greater than or equal to `n` will raise an `IndexError`.\n\n**Why the Error Occurred in Your Code**\n\nIn your code snippet:\n\n```python\nmy_list = [1, 2, 3]\nprint(my_list[3])\n```\n\n1.  `my_list` is created with three elements: `1`, `2`, and `3`.\n2.  The length of `my_list` is 3.\n3.  Therefore, the valid indices for `my_list` are 0, 1, and 2.\n4.  You are trying to access `my_list[3]`.  Since 3 is *not* a valid index (it's one beyond the last element), Python raises the `IndexError`.\n\n**How to Fix the Error**\n\nTo fix the error, you need to make sure you're only accessing elements within the valid index range of the list.  Here are a few common solutions, depending on what you're trying to achieve:\n\n1.  **Access a Valid Element:** If you intended to access the *last* element of the list, you should use index 2:\n\n    ```python\n    my_list = [1, 2, 3]\n    print(my_list[2])  # Output: 3\n    ```\n\n2.  **Use the Length of the List:**  You can dynamically get the last element's index by subtracting 1 from the length of the list:\n\n    ```python\n    my_list = [1, 2, 3]\n    last_index = len(my_list) - 1\n    print(my_list[last_index])  # Output: 3\n    ```\n    This is useful if the list's length might change.\n\n3.  **Use Negative Indexing:** Python allows negative indexing, where `my_list[-1]` refers to the last element, `my_list[-2]` refers to the second-to-last element, and so on.  This is a concise way to access elements from the end of the list:\n\n    ```python\n    my_list = [1, 2, 3]\n    print(my_list[-1])  # Output: 3\n    ```\n\n4.  **Check the List Length Before Accessing:** If you're unsure if the list has enough elements, you can add a check:\n\n    ```python\n    my_list = [1, 2, 3]\n    index_to_access = 3\n    if index_to_access < len(my_list):\n        print(my_list[index_to_access])\n    else:\n        print(\"Index is out of range.\")\n    ```\n\n5.  **Iterate Correctly:** If you're looping through the list, make sure your loop doesn't go beyond the valid indices.  Use `range(len(my_list))` to generate the correct indices:\n\n    ```python\n    my_list = [1, 2, 3]\n    for i in range(len(my_list)):  # i will be 0, 1, 2\n        print(my_list[i])\n    ```\n\n**In summary:** The `IndexError: list index out of range` error occurs when you try to access a list element using an index that is outside the valid range (0 to length-1).  To fix it, double-check your indices and make sure they are within the bounds of the list.  Use the techniques above to access elements safely and correctly.\n"
          },
          "metadata": {},
          "execution_count": 6
        }
      ]
    },
    {
      "cell_type": "code",
      "source": [
        "# Automated code creation\n",
        "code_generation_system_prompt = f\"\"\"\n",
        "You are a coding assistant. Your task is to generate a code snippet that accomplishes a specific goal.\n",
        "The code snippet must be concise, efficient, and well-commented for clarity.\n",
        "Consider any constraints or requirements provided for the task.\n",
        "\n",
        "If the task does not specify a programming language, default to Python.\n",
        "\"\"\"\n",
        "code_generation_model = genai.GenerativeModel(model_name='gemini-2.0-flash', generation_config={\"temperature\": 0},\n",
        "                                             system_instruction=code_generation_system_prompt)"
      ],
      "metadata": {
        "id": "WaZhWS5AIrdA"
      },
      "execution_count": 7,
      "outputs": []
    },
    {
      "cell_type": "code",
      "source": [
        "code_generation_prompt = 'Create a countdown timer that ticks down every second and prints \"Time is up!\" after 20 seconds'\n",
        "\n",
        "Markdown(code_generation_model.generate_content(code_generation_prompt).text)"
      ],
      "metadata": {
        "colab": {
          "base_uri": "https://localhost:8080/",
          "height": 312
        },
        "id": "FnoHVOKfIynR",
        "outputId": "672e0660-5381-419e-9b69-49cdeff49b6d"
      },
      "execution_count": 8,
      "outputs": [
        {
          "output_type": "execute_result",
          "data": {
            "text/plain": [
              "<IPython.core.display.Markdown object>"
            ],
            "text/markdown": "```python\nimport time\n\ndef countdown(seconds):\n  \"\"\"\n  Counts down from a specified number of seconds, printing the remaining time each second.\n  Prints \"Time is up!\" when the countdown reaches zero.\n\n  Args:\n    seconds: The number of seconds to count down from.\n  \"\"\"\n  for i in range(seconds, 0, -1):\n    print(f\"{i} seconds remaining\")\n    time.sleep(1)  # Pause for 1 second\n  print(\"Time is up!\")\n\n# Example usage: Countdown from 20 seconds\ncountdown(20)\n```"
          },
          "metadata": {},
          "execution_count": 8
        }
      ]
    },
    {
      "cell_type": "code",
      "source": [
        "import time\n",
        "\n",
        "# Set the countdown duration in seconds\n",
        "countdown_duration = 20\n",
        "\n",
        "# Start the countdown\n",
        "for i in range(countdown_duration, 0, -1):\n",
        "    print(i, end=\" \")\n",
        "    time.sleep(1)  # Wait for 1 second\n",
        "\n",
        "# Print \"Time is up!\" after the countdown\n",
        "print(\"Time is up!\")"
      ],
      "metadata": {
        "colab": {
          "base_uri": "https://localhost:8080/"
        },
        "id": "VnQGVFQxI0BJ",
        "outputId": "a202613b-7b10-4c5c-cade-2105c2a4fbb1"
      },
      "execution_count": 9,
      "outputs": [
        {
          "output_type": "stream",
          "name": "stdout",
          "text": [
            "20 19 18 17 16 15 14 13 12 11 10 9 8 7 6 5 4 3 2 1 Time is up!\n"
          ]
        }
      ]
    },
    {
      "cell_type": "markdown",
      "source": [
        "\n",
        "\n",
        "---\n",
        "\n",
        "# **Next steps: Take time to explore additional prompt examples in the repository. Try creating prompts for your own code using the examples in this notebook as a guide.**\n",
        "\n",
        "---\n",
        "\n"
      ],
      "metadata": {
        "id": "iWmu7HpWJx_m"
      }
    }
  ]
}